{
 "cells": [
  {
   "cell_type": "markdown",
   "metadata": {},
   "source": [
    "## Задание 4"
   ]
  },
  {
   "cell_type": "markdown",
   "metadata": {},
   "source": [
    "Вы работаете секретарем и вам постоянно приходят различные документы. Вы должны быть очень внимательны, чтобы не потерять ни один документ. Каталог документов хранится в следующем виде:"
   ]
  },
  {
   "cell_type": "code",
   "execution_count": 259,
   "metadata": {},
   "outputs": [],
   "source": [
    "documents = [\n",
    "    {'type': 'passport', 'number': '2207 876234', 'name': 'Василий Гупкин'},\n",
    "    {'type': 'invoice', 'number': '11-2', 'name': 'Геннадий Покемонов'},\n",
    "    {'type': 'insurance', 'number': '10006', 'name': 'Аристарх Павлов'}\n",
    "]"
   ]
  },
  {
   "cell_type": "markdown",
   "metadata": {},
   "source": [
    "Перечень полок, на которых находятся документы хранится в следующем виде:"
   ]
  },
  {
   "cell_type": "code",
   "execution_count": 260,
   "metadata": {},
   "outputs": [],
   "source": [
    "directories = {\n",
    "    '1': ['2207 876234', '11-2', '5455 028765'],\n",
    "    '2': ['10006', '5400 028765', '5455 002299'],\n",
    "    '3': []\n",
    "}"
   ]
  },
  {
   "cell_type": "markdown",
   "metadata": {},
   "source": [
    "Необходимо реализовать пользовательские команды (внимание! это не название функций, которые должны быть выразительными, а команды, которые вводит пользователь, чтобы получить необходимый результат):\n",
    "  \n",
    "- p – people – команда, которая спросит номер документа и выведет имя человека, которому он принадлежит;  \n",
    "- s – shelf – команда, которая спросит номер документа и выведет номер полки, на которой он находится  \n",
    "Правильно обработайте ситуацию, когда пользователь будет вводить несуществующий документ.\n",
    "- l – list – команда, которая выведет список всех документов в формате   \n",
    "**passport \"2207 876234\" \"Василий Гупкин\"**  \n",
    "- as – add shelf – команда, которая спросит номер новой полки и добавит ее в перечень\n",
    "- d – delete – команда, которая спросит номер документа и удалит его из каталога и из перечня полок. Предусмотрите сценарий, когда пользователь вводит несуществующий документ;  \n",
    "- m – move – команда, которая спросит номер документа и целевую полку и переместит его с текущей полки на целевую. Корректно обработайте кейсы, когда пользователь пытается переместить несуществующий документ или переместить документ на несуществующую полку;  \n",
    "- a – add – команда, которая добавит новый документ в каталог и в перечень полок, спросив его номер, тип, имя владельца и номер полки, на котором он будет храниться."
   ]
  },
  {
   "cell_type": "markdown",
   "metadata": {},
   "source": [
    "## Вспомогательные функции\n"
   ]
  },
  {
   "cell_type": "code",
   "execution_count": 261,
   "metadata": {},
   "outputs": [],
   "source": [
    "# проверяет наличие данного номера в каталоге документов. \n",
    "def list_doc(x):\n",
    "    l_doc = []\n",
    "    for el in documents:\n",
    "            l_doc.append(el['number'])\n",
    "    #print(l_doc)\n",
    "    if x  in l_doc:\n",
    "         return x\n",
    "    else:\n",
    "        print(f\"такого документа нет\")\n",
    "        #return (f\"такого документа нет\")\n",
    "        #return None    "
   ]
  },
  {
   "cell_type": "code",
   "execution_count": 263,
   "metadata": {},
   "outputs": [
    {
     "data": {
      "text/plain": [
       "'10006'"
      ]
     },
     "execution_count": 263,
     "metadata": {},
     "output_type": "execute_result"
    }
   ],
   "source": [
    "list_doc('10006')"
   ]
  },
  {
   "cell_type": "code",
   "execution_count": 253,
   "metadata": {},
   "outputs": [
    {
     "name": "stdout",
     "output_type": "stream",
     "text": [
      "такого документа нет\n"
     ]
    }
   ],
   "source": [
    "list_doc('65')"
   ]
  },
  {
   "cell_type": "code",
   "execution_count": 140,
   "metadata": {},
   "outputs": [],
   "source": [
    "# удалить по номеру документа с каталога документов ВЕСЬ ДОКУМЕНТ (предварительно проверит его наличие в каталоге)\n",
    "\n",
    "def delet_doc(x):\n",
    "    if list_doc(x) == x:\n",
    "        #print(x)\n",
    "        for el in documents:\n",
    "            if el['number'] == x:\n",
    "                documents.remove(el)\n",
    "                break        \n",
    "    return documents\n",
    "            "
   ]
  },
  {
   "cell_type": "code",
   "execution_count": 141,
   "metadata": {},
   "outputs": [
    {
     "data": {
      "text/plain": [
       "[{'type': 'passport', 'number': '2207 876234', 'name': 'Василий Гупкин'},\n",
       " {'type': 'insurance', 'number': '10006', 'name': 'Аристарх Павлов'}]"
      ]
     },
     "execution_count": 141,
     "metadata": {},
     "output_type": "execute_result"
    }
   ],
   "source": [
    "delet_doc('11-2')"
   ]
  },
  {
   "cell_type": "code",
   "execution_count": 142,
   "metadata": {},
   "outputs": [
    {
     "name": "stdout",
     "output_type": "stream",
     "text": [
      "такого документа нет\n"
     ]
    },
    {
     "data": {
      "text/plain": [
       "[{'type': 'passport', 'number': '2207 876234', 'name': 'Василий Гупкин'},\n",
       " {'type': 'insurance', 'number': '10006', 'name': 'Аристарх Павлов'}]"
      ]
     },
     "execution_count": 142,
     "metadata": {},
     "output_type": "execute_result"
    }
   ],
   "source": [
    "delet_doc('54')"
   ]
  },
  {
   "cell_type": "code",
   "execution_count": 145,
   "metadata": {},
   "outputs": [],
   "source": [
    "# удалит по номеру документа с полки-хранения  документ.\n",
    "def delet_doc_shelf(x):\n",
    "    \n",
    "# проверим - есть ли такой номер в каталоге документов \n",
    "    if list_doc(x) == x:\n",
    "\n",
    "# эта функция по номеру документа выдаст номер полки, если документ не найдет на полках, она сообщит об это.        \n",
    "        n = shelf(x)\n",
    "        #print(n)\n",
    "    \n",
    "# удаляем с полки документ    \n",
    "        n_shelf = directories[n]\n",
    "        n_shelf.remove(x)\n",
    "        directories[n] = (n_shelf)\n",
    "    #else:\n",
    "        return directories"
   ]
  },
  {
   "cell_type": "code",
   "execution_count": 146,
   "metadata": {},
   "outputs": [
    {
     "name": "stdout",
     "output_type": "stream",
     "text": [
      "номер полки -  1\n"
     ]
    },
    {
     "data": {
      "text/plain": [
       "{'1': ['2207 876234', '5455 028765'],\n",
       " '2': ['10006', '5400 028765', '5455 002299'],\n",
       " '3': []}"
      ]
     },
     "execution_count": 146,
     "metadata": {},
     "output_type": "execute_result"
    }
   ],
   "source": [
    "delet_doc_shelf('11-2')"
   ]
  },
  {
   "cell_type": "code",
   "execution_count": 147,
   "metadata": {},
   "outputs": [
    {
     "name": "stdout",
     "output_type": "stream",
     "text": [
      "такого документа нет\n"
     ]
    }
   ],
   "source": [
    "delet_doc_shelf('87')"
   ]
  },
  {
   "cell_type": "code",
   "execution_count": 209,
   "metadata": {},
   "outputs": [],
   "source": [
    "# Функция, которая положит   документ на указанную полку (добавляем по \"ключу- номеру полки\"  значение- документа   \n",
    "def doc_on_shelf (x,targ_shelf): \n",
    "    list_targ_shelf = []\n",
    "    list_targ_shelf = directories[targ_shelf]\n",
    "    list_targ_shelf.append(x)\n",
    "    directories.setdefault(targ_shelf,[list_targ_shelf])\n",
    "    print(directories)  "
   ]
  },
  {
   "cell_type": "code",
   "execution_count": 210,
   "metadata": {},
   "outputs": [
    {
     "name": "stdout",
     "output_type": "stream",
     "text": [
      "{'1': ['2207 876234', '5455 028765'], '2': ['10006', '5400 028765', '5455 002299'], '3': ['11-2']}\n"
     ]
    }
   ],
   "source": [
    "doc_on_shelf('11-2', '3')"
   ]
  },
  {
   "cell_type": "code",
   "execution_count": 230,
   "metadata": {},
   "outputs": [],
   "source": [
    "#проверим есть ли такая полка в каталоге и создает, если Y\n",
    "def shelf_in_direc (targ_shelf):\n",
    "    if targ_shelf not in directories.keys():\n",
    "        p = input(' Такой полки нет. Создать? (Y/N)')\n",
    "        if p == 'Y':\n",
    "            directories.setdefault(targ_shelf,[])\n",
    "            print(directories)\n",
    "        else:\n",
    "            return print('Замените номер целевой полки')\n",
    "    #else:\n",
    "    return targ_shelf\n",
    "        "
   ]
  },
  {
   "cell_type": "code",
   "execution_count": 231,
   "metadata": {},
   "outputs": [
    {
     "data": {
      "text/plain": [
       "'3'"
      ]
     },
     "execution_count": 231,
     "metadata": {},
     "output_type": "execute_result"
    }
   ],
   "source": [
    "shelf_in_direc('3')\n"
   ]
  },
  {
   "cell_type": "code",
   "execution_count": 232,
   "metadata": {},
   "outputs": [
    {
     "name": "stdout",
     "output_type": "stream",
     "text": [
      " Такой полки нет. Создать? (Y/N)Y\n",
      "{'1': ['2207 876234', '5455 028765'], '2': ['10006', '5400 028765', '5455 002299'], '3': [], '9': []}\n"
     ]
    },
    {
     "data": {
      "text/plain": [
       "'9'"
      ]
     },
     "execution_count": 232,
     "metadata": {},
     "output_type": "execute_result"
    }
   ],
   "source": [
    "shelf_in_direc('9')"
   ]
  },
  {
   "cell_type": "code",
   "execution_count": 233,
   "metadata": {},
   "outputs": [
    {
     "name": "stdout",
     "output_type": "stream",
     "text": [
      " Такой полки нет. Создать? (Y/N)N\n",
      "Замените номер целевой полки\n"
     ]
    }
   ],
   "source": [
    "shelf_in_direc('10')"
   ]
  },
  {
   "cell_type": "markdown",
   "metadata": {},
   "source": [
    "## основные функции"
   ]
  },
  {
   "cell_type": "code",
   "execution_count": 211,
   "metadata": {},
   "outputs": [],
   "source": [
    "documents = [\n",
    "    {'type': 'passport', 'number': '2207 876234', 'name': 'Василий Гупкин'},\n",
    "    {'type': 'invoice', 'number': '11-2', 'name': 'Геннадий Покемонов'},\n",
    "    {'type': 'insurance', 'number': '10006', 'name': 'Аристарх Павлов'}\n",
    "]"
   ]
  },
  {
   "cell_type": "code",
   "execution_count": 212,
   "metadata": {},
   "outputs": [],
   "source": [
    "directories = {\n",
    "    '1': ['2207 876234', '11-2', '5455 028765'],\n",
    "    '2': ['10006', '5400 028765', '5455 002299'],\n",
    "    '3': []\n",
    "}"
   ]
  },
  {
   "cell_type": "code",
   "execution_count": 268,
   "metadata": {},
   "outputs": [],
   "source": [
    "\"\"\"\n",
    " функция p - people ищет соответствие номера документа и человека\n",
    " р - команда запросит - x = input('Номер документа - ')\n",
    "\"\"\"\n",
    "def people(x):\n",
    "    list_doc(x)\n",
    "    for el in documents:\n",
    "        if el['number'] == x:\n",
    "            #print(f\"{el['type']} № {el['number']} - {el['name']}\")\n",
    "                return el['name']\n",
    "            \n",
    "    print(f\"документ не найден\")\n",
    "        #return False"
   ]
  },
  {
   "cell_type": "code",
   "execution_count": 269,
   "metadata": {},
   "outputs": [
    {
     "data": {
      "text/plain": [
       "'Геннадий Покемонов'"
      ]
     },
     "execution_count": 269,
     "metadata": {},
     "output_type": "execute_result"
    }
   ],
   "source": [
    "people('11-2')"
   ]
  },
  {
   "cell_type": "code",
   "execution_count": 270,
   "metadata": {},
   "outputs": [
    {
     "name": "stdout",
     "output_type": "stream",
     "text": [
      "такого документа нет\n",
      "документ не найден\n"
     ]
    }
   ],
   "source": [
    "people('112')"
   ]
  },
  {
   "cell_type": "code",
   "execution_count": 276,
   "metadata": {},
   "outputs": [],
   "source": [
    "#s – shelf – команда, которая спросит номер документа и выведет номер полки, на которой он находится\n",
    "\n",
    "\"\"\"\n",
    "# s -команда запросит - x = input('Номер документа - ')\n",
    "\"\"\"\n",
    "\n",
    "def shelf(x):\n",
    "    if list_doc(x) == x:\n",
    "        for key in directories.keys():\n",
    "            if x in directories[key]:   \n",
    "                #print(f\"номер полки -  {key}\")\n",
    "                return key\n",
    "               \n",
    "        else:\n",
    "            print(f\"документ не найден\")\n",
    "            return None\n",
    "            "
   ]
  },
  {
   "cell_type": "code",
   "execution_count": 277,
   "metadata": {},
   "outputs": [
    {
     "data": {
      "text/plain": [
       "'3'"
      ]
     },
     "execution_count": 277,
     "metadata": {},
     "output_type": "execute_result"
    }
   ],
   "source": [
    "shelf('11-2')"
   ]
  },
  {
   "cell_type": "code",
   "execution_count": 278,
   "metadata": {},
   "outputs": [
    {
     "name": "stdout",
     "output_type": "stream",
     "text": [
      "такого документа нет\n"
     ]
    }
   ],
   "source": [
    "shelf('89')"
   ]
  },
  {
   "cell_type": "code",
   "execution_count": 279,
   "metadata": {},
   "outputs": [],
   "source": [
    "\"\"\"\"\n",
    "l – list – команда, которая выведет список всех документов в формате passport \"2207 876234\" \"Василий Гупкин\"\n",
    "\"\"\"\n",
    "def l():\n",
    "    for el in documents:\n",
    "        print(f\"{el['type']}   {el['number']}  {el['name']}\")\n",
    "# не cмогла сделать так , чтобы часть элементов выходило в кавычках. Пока только в таком виде."
   ]
  },
  {
   "cell_type": "code",
   "execution_count": 280,
   "metadata": {},
   "outputs": [
    {
     "name": "stdout",
     "output_type": "stream",
     "text": [
      "passport   2207 876234  Василий Гупкин\n",
      "invoice   11-2  Геннадий Покемонов\n",
      "insurance   10006  Аристарх Павлов\n"
     ]
    }
   ],
   "source": [
    "l()"
   ]
  },
  {
   "cell_type": "code",
   "execution_count": 281,
   "metadata": {},
   "outputs": [],
   "source": [
    "#as – add shelf – команда, которая спросит номер новой полки и добавит ее в перечень\n",
    "\"\"\"\n",
    "as - команда запросит targ_shelf = input('Номер новой полки - ')\n",
    "\"\"\"\n",
    "def add_shelf(targ_shelf):\n",
    "    \n",
    "    dir_key = []\n",
    "    dir_key = directories.keys()\n",
    "    if targ_shelf in dir_key:\n",
    "        print(f\"Такой номер полки существует, замените номер\")\n",
    "        #return False\n",
    "    else:\n",
    "        directories.setdefault(targ_shelf, [])\n",
    "        #print(directories)\n",
    "        return directories"
   ]
  },
  {
   "cell_type": "code",
   "execution_count": 282,
   "metadata": {},
   "outputs": [
    {
     "data": {
      "text/plain": [
       "{'1': ['2207 876234', '5455 028765'],\n",
       " '2': ['10006', '5400 028765', '5455 002299'],\n",
       " '3': ['11-2'],\n",
       " '4': []}"
      ]
     },
     "execution_count": 282,
     "metadata": {},
     "output_type": "execute_result"
    }
   ],
   "source": [
    "add_shelf('4')"
   ]
  },
  {
   "cell_type": "code",
   "execution_count": 283,
   "metadata": {},
   "outputs": [
    {
     "name": "stdout",
     "output_type": "stream",
     "text": [
      "Такой номер полки существует, замените номер\n"
     ]
    }
   ],
   "source": [
    "add_shelf('3')"
   ]
  },
  {
   "cell_type": "code",
   "execution_count": 308,
   "metadata": {},
   "outputs": [],
   "source": [
    "directories = {\n",
    "    '1': ['2207 876234', '11-2', '5455 028765'],\n",
    "    '2': ['10006', '5400 028765', '5455 002299'],\n",
    "    '3': []\n",
    "}"
   ]
  },
  {
   "cell_type": "code",
   "execution_count": 309,
   "metadata": {},
   "outputs": [],
   "source": [
    "documents = [\n",
    "    {'type': 'passport', 'number': '2207 876234', 'name': 'Василий Гупкин'},\n",
    "    {'type': 'invoice', 'number': '11-2', 'name': 'Геннадий Покемонов'},\n",
    "    {'type': 'insurance', 'number': '10006', 'name': 'Аристарх Павлов'}\n",
    "]"
   ]
  },
  {
   "cell_type": "code",
   "execution_count": 286,
   "metadata": {},
   "outputs": [],
   "source": [
    "# d – delete – команда, которая спросит номер документа и удалит его из каталога и из перечня полок.\n",
    "\"\"\"\n",
    "d – команда, запросит: x = input('Номер документа - ')\n",
    "\"\"\"\n",
    "def delete_all (x):\n",
    "    if list_doc(x) == x:\n",
    "        delet_doc_shelf(x)\n",
    "        delet_doc(x)\n",
    "        print(documents)\n",
    "        return directories\n",
    "   \n",
    "\n"
   ]
  },
  {
   "cell_type": "code",
   "execution_count": 287,
   "metadata": {},
   "outputs": [
    {
     "name": "stdout",
     "output_type": "stream",
     "text": [
      "[{'type': 'passport', 'number': '2207 876234', 'name': 'Василий Гупкин'}, {'type': 'insurance', 'number': '10006', 'name': 'Аристарх Павлов'}]\n"
     ]
    },
    {
     "data": {
      "text/plain": [
       "{'1': ['2207 876234', '5455 028765'],\n",
       " '2': ['10006', '5400 028765', '5455 002299'],\n",
       " '3': []}"
      ]
     },
     "execution_count": 287,
     "metadata": {},
     "output_type": "execute_result"
    }
   ],
   "source": [
    "delete_all('11-2')"
   ]
  },
  {
   "cell_type": "code",
   "execution_count": 288,
   "metadata": {},
   "outputs": [
    {
     "name": "stdout",
     "output_type": "stream",
     "text": [
      "такого документа нет\n"
     ]
    }
   ],
   "source": [
    "delete_all('56')"
   ]
  },
  {
   "cell_type": "code",
   "execution_count": 293,
   "metadata": {},
   "outputs": [],
   "source": [
    "# m – move – команда, которая спросит номер документа и целевую полку и переместит его с текущей полки на целевую. \n",
    "# Корректно обработайте кейсы,\n",
    "# когда пользователь пытается переместить несуществующий документ или переместить документ на несуществующую полку;\n",
    "\"\"\"\n",
    "m  – команда, запросит: x = input('Номер документа - ')  and targ_shelf = input('номер целевой полки')\n",
    "\"\"\"\n",
    "def move (x,targ_shelf):\n",
    "    if list_doc(x) == x:\n",
    "        delet_doc_shelf(x)\n",
    "    #функция удалит с полки хранения документ \n",
    "            #print(directories)\n",
    "    #проверим есть ли такая полка в каталоге \n",
    "        if shelf_in_direc(targ_shelf) == targ_shelf:\n",
    "    #кладем документ на полку\n",
    "            doc_on_shelf(x,targ_shelf)\n",
    "    else: \n",
    "        print(documents)\n",
    "    return directories\n",
    "      \n",
    "        \n",
    "    "
   ]
  },
  {
   "cell_type": "code",
   "execution_count": 294,
   "metadata": {},
   "outputs": [
    {
     "name": "stdout",
     "output_type": "stream",
     "text": [
      "{'1': ['2207 876234', '5455 028765'], '2': ['10006', '5400 028765', '5455 002299'], '3': ['11-2']}\n"
     ]
    },
    {
     "data": {
      "text/plain": [
       "{'1': ['2207 876234', '5455 028765'],\n",
       " '2': ['10006', '5400 028765', '5455 002299'],\n",
       " '3': ['11-2']}"
      ]
     },
     "execution_count": 294,
     "metadata": {},
     "output_type": "execute_result"
    }
   ],
   "source": [
    "move('11-2','3')"
   ]
  },
  {
   "cell_type": "code",
   "execution_count": 295,
   "metadata": {},
   "outputs": [
    {
     "name": "stdout",
     "output_type": "stream",
     "text": [
      " Такой полки нет. Создать? (Y/N)Y\n",
      "{'1': ['2207 876234', '5455 028765'], '2': ['10006', '5400 028765', '5455 002299'], '3': [], '5': []}\n",
      "{'1': ['2207 876234', '5455 028765'], '2': ['10006', '5400 028765', '5455 002299'], '3': [], '5': ['11-2']}\n"
     ]
    },
    {
     "data": {
      "text/plain": [
       "{'1': ['2207 876234', '5455 028765'],\n",
       " '2': ['10006', '5400 028765', '5455 002299'],\n",
       " '3': [],\n",
       " '5': ['11-2']}"
      ]
     },
     "execution_count": 295,
     "metadata": {},
     "output_type": "execute_result"
    }
   ],
   "source": [
    "move('11-2','5')"
   ]
  },
  {
   "cell_type": "code",
   "execution_count": 296,
   "metadata": {},
   "outputs": [
    {
     "name": "stdout",
     "output_type": "stream",
     "text": [
      " Такой полки нет. Создать? (Y/N)N\n",
      "Замените номер целевой полки\n"
     ]
    },
    {
     "data": {
      "text/plain": [
       "{'1': ['2207 876234', '5455 028765'],\n",
       " '2': ['10006', '5400 028765', '5455 002299'],\n",
       " '3': [],\n",
       " '5': []}"
      ]
     },
     "execution_count": 296,
     "metadata": {},
     "output_type": "execute_result"
    }
   ],
   "source": [
    "move('11-2','6')\n"
   ]
  },
  {
   "cell_type": "code",
   "execution_count": 297,
   "metadata": {},
   "outputs": [
    {
     "name": "stdout",
     "output_type": "stream",
     "text": [
      "такого документа нет\n",
      "[{'type': 'passport', 'number': '2207 876234', 'name': 'Василий Гупкин'}, {'type': 'invoice', 'number': '11-2', 'name': 'Геннадий Покемонов'}, {'type': 'insurance', 'number': '10006', 'name': 'Аристарх Павлов'}]\n"
     ]
    },
    {
     "data": {
      "text/plain": [
       "{'1': ['2207 876234', '5455 028765'],\n",
       " '2': ['10006', '5400 028765', '5455 002299'],\n",
       " '3': [],\n",
       " '5': []}"
      ]
     },
     "execution_count": 297,
     "metadata": {},
     "output_type": "execute_result"
    }
   ],
   "source": [
    "move('28','3')"
   ]
  },
  {
   "cell_type": "code",
   "execution_count": 310,
   "metadata": {},
   "outputs": [],
   "source": [
    "#a – add – команда, которая добавит новый документ в каталог и в перечень полок,\n",
    "# спросив его номер, тип, имя владельца и номер полки, на котором он будет храниться.\n",
    "\"\"\"\n",
    "a -команда запросит: x = input('Номер документа - ') , targ_shelf = input('номер целевой полки')\n",
    " type_x = input('Тип документа-') ,  name_x = input(' Имя владельца')\n",
    "\"\"\"\n",
    "\n",
    "def add (x,targ_shelf, type_x, name_x):\n",
    "#добавляем новый документ в каталог\n",
    "    dict_x = {}\n",
    "    dict_x['type'] = type_x\n",
    "    dict_x['number'] = x\n",
    "    dict_x['name'] = name_x \n",
    "    #print(dict_x)\n",
    "    documents.append(dict_x)\n",
    "    print(documents)\n",
    "#проверим есть ли такая полка в каталоге,и добавляем если нет.\n",
    "    shelf_in_direc(targ_shelf)\n",
    "    #print('ok')\n",
    "#добавляем документ на полку хранения\n",
    "    doc_on_shelf(x,targ_shelf)\n",
    "    #print(directories)"
   ]
  },
  {
   "cell_type": "code",
   "execution_count": 311,
   "metadata": {},
   "outputs": [
    {
     "name": "stdout",
     "output_type": "stream",
     "text": [
      "[{'type': 'passport', 'number': '2207 876234', 'name': 'Василий Гупкин'}, {'type': 'invoice', 'number': '11-2', 'name': 'Геннадий Покемонов'}, {'type': 'insurance', 'number': '10006', 'name': 'Аристарх Павлов'}, {'type': 'non', 'number': '4', 'name': 'lara'}]\n",
      "{'1': ['2207 876234', '11-2', '5455 028765'], '2': ['10006', '5400 028765', '5455 002299'], '3': ['4']}\n"
     ]
    }
   ],
   "source": [
    "add('4','3', 'non', 'lara')"
   ]
  },
  {
   "cell_type": "code",
   "execution_count": null,
   "metadata": {},
   "outputs": [],
   "source": []
  },
  {
   "cell_type": "markdown",
   "metadata": {},
   "source": [
    "## Команды "
   ]
  },
  {
   "cell_type": "code",
   "execution_count": 148,
   "metadata": {},
   "outputs": [],
   "source": [
    "documents = [\n",
    "    {'type': 'passport', 'number': '2207 876234', 'name': 'Василий Гупкин'},\n",
    "    {'type': 'invoice', 'number': '11-2', 'name': 'Геннадий Покемонов'},\n",
    "    {'type': 'insurance', 'number': '10006', 'name': 'Аристарх Павлов'}\n",
    "]"
   ]
  },
  {
   "cell_type": "code",
   "execution_count": 149,
   "metadata": {},
   "outputs": [],
   "source": [
    "directories = {\n",
    "    '1': ['2207 876234', '11-2', '5455 028765'],\n",
    "    '2': ['10006', '5400 028765', '5455 002299'],\n",
    "    '3': []\n",
    "}"
   ]
  },
  {
   "cell_type": "code",
   "execution_count": 312,
   "metadata": {},
   "outputs": [
    {
     "name": "stdout",
     "output_type": "stream",
     "text": [
      "Введите команду: m\n",
      "Номер документа - 11-2\n",
      "Номер новой полки - 8\n",
      " Такой полки нет. Создать? (Y/N)Y\n",
      "{'1': ['2207 876234', '5455 028765'], '2': ['10006', '5400 028765', '5455 002299'], '3': ['4'], '8': []}\n",
      "{'1': ['2207 876234', '5455 028765'], '2': ['10006', '5400 028765', '5455 002299'], '3': ['4'], '8': ['11-2']}\n"
     ]
    }
   ],
   "source": [
    "command = input('Введите команду: ')\n",
    "if command =='p':\n",
    "    x = input('Номер документа - ')\n",
    "    people(x)\n",
    "elif command == 's':\n",
    "    x = input('Номер документа - ')\n",
    "    shelf(x)\n",
    "elif command == 'l':\n",
    "    l(documents)\n",
    "elif command == 'as':\n",
    "    targ_shelf = input('Номер новой полки - ')\n",
    "    add_shelf(n)\n",
    "elif command == 'd':\n",
    "    x = input('Номер документа - ')\n",
    "    delete_all(x)\n",
    "elif command == 'm':\n",
    "    x = input('Номер документа - ')\n",
    "    targ_shelf = input('Номер новой полки - ')\n",
    "    move(x,targ_shelf)\n",
    "elif command == 'd':\n",
    "    x = input('Номер документа - ')\n",
    "elif command == 'a':\n",
    "    x = input('Номер документа - ') \n",
    "    targ_shelf = input('Номер полки - ')\n",
    "    type_x = input('Тип документа-' )\n",
    "    name_x = input('Имя владельца- ')\n",
    "    add(x, targ_shelf,type_x, name_x )\n",
    "    \n",
    "else:\n",
    "    print('Такой команды нет') "
   ]
  },
  {
   "cell_type": "code",
   "execution_count": 313,
   "metadata": {},
   "outputs": [
    {
     "name": "stdout",
     "output_type": "stream",
     "text": [
      "[{'type': 'passport', 'number': '2207 876234', 'name': 'Василий Гупкин'}, {'type': 'invoice', 'number': '11-2', 'name': 'Геннадий Покемонов'}, {'type': 'insurance', 'number': '10006', 'name': 'Аристарх Павлов'}, {'type': 'non', 'number': '4', 'name': 'lara'}]\n",
      "{'1': ['2207 876234', '5455 028765'], '2': ['10006', '5400 028765', '5455 002299'], '3': ['4'], '8': ['11-2']}\n"
     ]
    }
   ],
   "source": [
    "print(documents)\n",
    "print(directories)"
   ]
  },
  {
   "cell_type": "code",
   "execution_count": null,
   "metadata": {},
   "outputs": [],
   "source": []
  }
 ],
 "metadata": {
  "kernelspec": {
   "display_name": "Python 3",
   "language": "python",
   "name": "python3"
  },
  "language_info": {
   "codemirror_mode": {
    "name": "ipython",
    "version": 3
   },
   "file_extension": ".py",
   "mimetype": "text/x-python",
   "name": "python",
   "nbconvert_exporter": "python",
   "pygments_lexer": "ipython3",
   "version": "3.7.4"
  }
 },
 "nbformat": 4,
 "nbformat_minor": 2
}
