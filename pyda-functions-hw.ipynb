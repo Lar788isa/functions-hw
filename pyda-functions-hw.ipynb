{
 "cells": [
  {
   "cell_type": "markdown",
   "metadata": {},
   "source": [
    "## Задание 1"
   ]
  },
  {
   "cell_type": "markdown",
   "metadata": {},
   "source": [
    "Дан список вида:"
   ]
  },
  {
   "cell_type": "code",
   "execution_count": 123,
   "metadata": {},
   "outputs": [],
   "source": [
    "data = [\n",
    "    [13, 25, 23, 34],\n",
    "    [45, 32, 44, 47],\n",
    "    [12, 33, 23, 95],\n",
    "    [13, 53, 34, 35]\n",
    "]"
   ]
  },
  {
   "cell_type": "markdown",
   "metadata": {},
   "source": [
    "Напишите функцию, которая возвращает сумму элементов на диагонали. Т. е. 13+32+23+35.  \n",
    "Список может быть любой длины, но всегда является \"квадратным\" (количество элементов во вложенных списках равно их количеству)."
   ]
  },
  {
   "cell_type": "code",
   "execution_count": 124,
   "metadata": {},
   "outputs": [],
   "source": [
    "def sum_diag(list1):\n",
    "    \n",
    "    diag_list = []\n",
    "    i = 0\n",
    "    for elements in list1:\n",
    "        diag_list.append(list1[i][i])\n",
    "        i += 1\n",
    "    return sum(diag_list)"
   ]
  },
  {
   "cell_type": "code",
   "execution_count": 125,
   "metadata": {},
   "outputs": [
    {
     "data": {
      "text/plain": [
       "103"
      ]
     },
     "execution_count": 125,
     "metadata": {},
     "output_type": "execute_result"
    }
   ],
   "source": [
    "sum_diag(data)\n"
   ]
  },
  {
   "cell_type": "markdown",
   "metadata": {},
   "source": [
    "## Задание 2"
   ]
  },
  {
   "cell_type": "markdown",
   "metadata": {},
   "source": [
    "Напишите функцию, возвращающую сумму первых n чисел Фибоначчи (для этого вам может понадобится ознакомиться с рекурсией)."
   ]
  },
  {
   "cell_type": "code",
   "execution_count": 128,
   "metadata": {},
   "outputs": [],
   "source": [
    "def fibon():\n",
    "\n",
    "    n = int(input(\"До какого элемента ряда Фибоначчи считаем сумму: \"))\n",
    "\n",
    "    fib1 = 0\n",
    "    fib2 = 1\n",
    "\n",
    "    fib_sum = []\n",
    "    while n >= 1:\n",
    "\n",
    "        print(fib1, end=' ')\n",
    "        fib_sum.append(fib1)\n",
    "        fib_3 = fib1 + fib2\n",
    "        fib1 = fib2\n",
    "        fib2 = fib_3\n",
    "        n -= 1\n",
    "    return sum(fib_sum)\n"
   ]
  },
  {
   "cell_type": "code",
   "execution_count": 129,
   "metadata": {},
   "outputs": [
    {
     "name": "stdout",
     "output_type": "stream",
     "text": [
      "До какого элемента ряда Фибоначчи считаем сумму: 10\n",
      "0 1 1 2 3 5 8 13 21 34 "
     ]
    },
    {
     "data": {
      "text/plain": [
       "88"
      ]
     },
     "execution_count": 129,
     "metadata": {},
     "output_type": "execute_result"
    }
   ],
   "source": [
    "fibon()"
   ]
  },
  {
   "cell_type": "markdown",
   "metadata": {},
   "source": [
    "## Задание 3\n"
   ]
  },
  {
   "cell_type": "markdown",
   "metadata": {},
   "source": [
    "Напишите функцию, преобразующую произвольный список вида ['2018-01-01', 'yandex', 'cpc', 100] (он может быть любой длины) в словарь {'2018-01-01': {'yandex': {'cpc': 100}}}"
   ]
  },
  {
   "cell_type": "code",
   "execution_count": 130,
   "metadata": {},
   "outputs": [],
   "source": [
    "def list_dict(list1):\n",
    "\n",
    "    voc = {}\n",
    "    y = list1[-2]\n",
    "    x = list1[-1]\n",
    "# y ключ\n",
    "# x  значение \n",
    "    voc[y] = x\n",
    "#print(voc)\n",
    "    i = len(list1)-3\n",
    "    while i >= 0:\n",
    "        y = list1[i]\n",
    "        x = voc\n",
    "        voc = {}\n",
    "        voc[y] = x\n",
    "        i -= 1\n",
    "    return voc"
   ]
  },
  {
   "cell_type": "code",
   "execution_count": 131,
   "metadata": {},
   "outputs": [],
   "source": [
    "list2 = ['2018-01-01', 'yandex', 'cpc', 100, 50, 25] "
   ]
  },
  {
   "cell_type": "code",
   "execution_count": 132,
   "metadata": {},
   "outputs": [
    {
     "data": {
      "text/plain": [
       "{'2018-01-01': {'yandex': {'cpc': {100: {50: 25}}}}}"
      ]
     },
     "execution_count": 132,
     "metadata": {},
     "output_type": "execute_result"
    }
   ],
   "source": [
    "list_dict(list2)"
   ]
  },
  {
   "cell_type": "markdown",
   "metadata": {},
   "source": [
    "## Задание 4"
   ]
  },
  {
   "cell_type": "markdown",
   "metadata": {},
   "source": [
    "Вы работаете секретарем и вам постоянно приходят различные документы. Вы должны быть очень внимательны, чтобы не потерять ни один документ. Каталог документов хранится в следующем виде:"
   ]
  },
  {
   "cell_type": "code",
   "execution_count": 44,
   "metadata": {},
   "outputs": [],
   "source": [
    "documents = [\n",
    "    {'type': 'passport', 'number': '2207 876234', 'name': 'Василий Гупкин'},\n",
    "    {'type': 'invoice', 'number': '11-2', 'name': 'Геннадий Покемонов'},\n",
    "    {'type': 'insurance', 'number': '10006', 'name': 'Аристарх Павлов'}\n",
    "]"
   ]
  },
  {
   "cell_type": "markdown",
   "metadata": {},
   "source": [
    "Перечень полок, на которых находятся документы хранится в следующем виде:"
   ]
  },
  {
   "cell_type": "code",
   "execution_count": 45,
   "metadata": {},
   "outputs": [],
   "source": [
    "directories = {\n",
    "    '1': ['2207 876234', '11-2', '5455 028765'],\n",
    "    '2': ['10006', '5400 028765', '5455 002299'],\n",
    "    '3': []\n",
    "}"
   ]
  },
  {
   "cell_type": "markdown",
   "metadata": {},
   "source": [
    "Необходимо реализовать пользовательские команды (внимание! это не название функций, которые должны быть выразительными, а команды, которые вводит пользователь, чтобы получить необходимый результат):\n",
    "  \n",
    "- p – people – команда, которая спросит номер документа и выведет имя человека, которому он принадлежит;  \n",
    "- s – shelf – команда, которая спросит номер документа и выведет номер полки, на которой он находится  \n",
    "Правильно обработайте ситуацию, когда пользователь будет вводить несуществующий документ.\n",
    "- l – list – команда, которая выведет список всех документов в формате   \n",
    "**passport \"2207 876234\" \"Василий Гупкин\"**  \n",
    "- as – add shelf – команда, которая спросит номер новой полки и добавит ее в перечень\n",
    "- d – delete – команда, которая спросит номер документа и удалит его из каталога и из перечня полок. Предусмотрите сценарий, когда пользователь вводит несуществующий документ;  \n",
    "- m – move – команда, которая спросит номер документа и целевую полку и переместит его с текущей полки на целевую. Корректно обработайте кейсы, когда пользователь пытается переместить несуществующий документ или переместить документ на несуществующую полку;  \n",
    "- a – add – команда, которая добавит новый документ в каталог и в перечень полок, спросив его номер, тип, имя владельца и номер полки, на котором он будет храниться."
   ]
  },
  {
   "cell_type": "markdown",
   "metadata": {},
   "source": [
    "## Вспомогательные функции\n"
   ]
  },
  {
   "cell_type": "code",
   "execution_count": 46,
   "metadata": {},
   "outputs": [],
   "source": [
    "# проверяет наличие данного номера в каталоге документов. \n",
    "def list_doc(x):\n",
    "    l_doc = []\n",
    "    for el in documents:\n",
    "            l_doc.append(el['number'])\n",
    "    #print(l_doc)\n",
    "    if x  in l_doc:\n",
    "         return x\n",
    "    else:\n",
    "        print(f\"такого документа нет\")\n",
    "        return (f\"такого документа нет\")\n",
    "        #return None  \n",
    "        \n",
    "  "
   ]
  },
  {
   "cell_type": "code",
   "execution_count": 47,
   "metadata": {},
   "outputs": [],
   "source": [
    "# удалить по номеру документа с каталога документов ВЕСЬ ДОКУМЕНТ (предварительно проверит его наличие в каталоге)\n",
    "\n",
    "def delet_doc(x):\n",
    "    if list_doc(x) == x:\n",
    "        #print(x)\n",
    "        for el in documents:\n",
    "            if el['number'] == x:\n",
    "                documents.remove(el)\n",
    "                break        \n",
    "    #print(documents)\n",
    "            "
   ]
  },
  {
   "cell_type": "code",
   "execution_count": 48,
   "metadata": {},
   "outputs": [],
   "source": [
    "# удалит по номеру документа с полки-хранения  документ.\n",
    "def delet_doc_shelf(x):\n",
    "    \n",
    "# проверим - есть ли такой номер в каталоге документов \n",
    "    if list_doc(x) == x:\n",
    "\n",
    "# эта функция по номеру документа выдаст номер полки, если документ не найдет на полках, она сообщит об это.        \n",
    "        n = shelf(x)\n",
    "        #print(n)\n",
    "    \n",
    "# удаляем с полки документ    \n",
    "        n_shelf = directories[n]\n",
    "        n_shelf.remove(x)\n",
    "        directories[n] = (n_shelf)\n",
    "    #else:\n",
    "        #print(directories)"
   ]
  },
  {
   "cell_type": "code",
   "execution_count": 49,
   "metadata": {},
   "outputs": [],
   "source": [
    "# Функция, которая положит документ на указанную полку (добавляем по \"ключу- номеру полки\"  значение- документа   \n",
    "def doc_on_shelf (x,targ_shelf):\n",
    "    list_targ_shelf = []\n",
    "    list_targ_shelf = directories[targ_shelf]\n",
    "    list_targ_shelf.append(x)\n",
    "    directories.setdefault(targ_shelf,[list_targ_shelf])\n",
    "    #print(directories)    "
   ]
  },
  {
   "cell_type": "code",
   "execution_count": 50,
   "metadata": {},
   "outputs": [],
   "source": [
    "#проверим есть ли такая полка в каталоге и создает, если Y\n",
    "def shelf_in_direc (targ_shelf):\n",
    "    if targ_shelf not in directories.keys():\n",
    "        p = input(' Такой полки нет. Создать? (Y/N)')\n",
    "        if p == 'Y':\n",
    "            directories.setdefault(targ_shelf,[])\n",
    "            #print(directories)\n",
    "        else:\n",
    "            return print('Замените номер целевой полки')\n",
    "    #else:\n",
    "    return targ_shelf\n",
    "        "
   ]
  },
  {
   "cell_type": "markdown",
   "metadata": {},
   "source": [
    "## основные функции"
   ]
  },
  {
   "cell_type": "code",
   "execution_count": 77,
   "metadata": {},
   "outputs": [],
   "source": [
    "\"\"\"\n",
    " функция p - people ищет соответствие номера документа и человека\n",
    " р - команда запросит - x = input('Номер документа - ')\n",
    "\"\"\"\n",
    "def people(x):\n",
    "    list_doc(x)\n",
    "    for el in documents:\n",
    "        if el['number'] == x:\n",
    "            #print(f\"{el['type']} № {el['number']} - {el['name']}\")\n",
    "                return el['name']\n",
    "    print(f\"документ не найден\")\n",
    "\n",
    "        #return False"
   ]
  },
  {
   "cell_type": "code",
   "execution_count": 76,
   "metadata": {},
   "outputs": [],
   "source": [
    "#s – shelf – команда, которая спросит номер документа и выведет номер полки, на которой он находится\n",
    "\n",
    "\"\"\"\n",
    "# s -команда запросит - x = input('Номер документа - ')\n",
    "\"\"\"\n",
    "\n",
    "def shelf(x):\n",
    "    if list_doc(x) == x:\n",
    "        for key in directories.keys():\n",
    "            if x in directories[key]:   \n",
    "                #print(f\"номер полки -  {key}\")\n",
    "                return key\n",
    "               \n",
    "        else:\n",
    "            print(f\"документ не найден\")\n",
    "            return None\n",
    "            "
   ]
  },
  {
   "cell_type": "code",
   "execution_count": 53,
   "metadata": {},
   "outputs": [],
   "source": [
    "\"\"\"\"\n",
    "l – list – команда, которая выведет список всех документов в формате passport \"2207 876234\" \"Василий Гупкин\"\n",
    "\"\"\"\n",
    "def l(documents):\n",
    "    for el in documents:\n",
    "        print(f\"{el['type']}   {el['number']}  {el['name']}\")\n",
    "# не cмогла сделать так , чтобы часть элементов выходило в кавычках. Пока только в таком виде."
   ]
  },
  {
   "cell_type": "code",
   "execution_count": 54,
   "metadata": {},
   "outputs": [],
   "source": [
    "#as – add shelf – команда, которая спросит номер новой полки и добавит ее в перечень\n",
    "\"\"\"\n",
    "as - команда запросит targ_shelf = input('Номер новой полки - ')\n",
    "\"\"\"\n",
    "def add_shelf(targ_shelf):\n",
    "    \n",
    "    dir_key = []\n",
    "    dir_key = directories.keys()\n",
    "    if targ_shelf in dir_key:\n",
    "        print(f\"Такой номер полки существует, замените номер\")\n",
    "        #return False\n",
    "    else:\n",
    "        directories.setdefault(targ_shelf, [])\n",
    "        #print(directories)\n",
    "        #return directories"
   ]
  },
  {
   "cell_type": "code",
   "execution_count": 55,
   "metadata": {},
   "outputs": [],
   "source": [
    "directories = {\n",
    "    '1': ['2207 876234', '11-2', '5455 028765'],\n",
    "    '2': ['10006', '5400 028765', '5455 002299'],\n",
    "    '3': []\n",
    "}"
   ]
  },
  {
   "cell_type": "code",
   "execution_count": 56,
   "metadata": {},
   "outputs": [],
   "source": [
    "# d – delete – команда, которая спросит номер документа и удалит его из каталога и из перечня полок.\n",
    "\"\"\"\n",
    "d – команда, запросит: x = input('Номер документа - ')\n",
    "\"\"\"\n",
    "def delete_all (x):\n",
    "    if list_doc(x) == x:\n",
    "        delet_doc_shelf(x)\n",
    "        delet_doc(x)\n",
    "    \n",
    "#print(directories)\n",
    "#print(documents)\n",
    "\n"
   ]
  },
  {
   "cell_type": "code",
   "execution_count": 67,
   "metadata": {},
   "outputs": [],
   "source": [
    "# m – move – команда, которая спросит номер документа и целевую полку и переместит его с текущей полки на целевую. \n",
    "# Корректно обработайте кейсы,\n",
    "# когда пользователь пытается переместить несуществующий документ или переместить документ на несуществующую полку;\n",
    "\"\"\"\n",
    "m  – команда, запросит: x = input('Номер документа - ')  and targ_shelf = input('номер целевой полки')\n",
    "\"\"\"\n",
    "def move (x,targ_shelf):\n",
    "    if list_doc(x) == x:\n",
    "        \n",
    "            #print(directories)\n",
    "    #проверим есть ли такая полка в каталоге \n",
    "        if shelf_in_direc(targ_shelf) == targ_shelf:\n",
    "            \n",
    "     #функция удалит с полки хранения документ        \n",
    "            delet_doc_shelf(x)\n",
    "        \n",
    "    #кладем документ на полку\n",
    "            doc_on_shelf(x,targ_shelf)\n",
    "    #else: \n",
    "        #print(documents)\n",
    "    #return directories\n",
    "        \n",
    "    "
   ]
  },
  {
   "cell_type": "code",
   "execution_count": 68,
   "metadata": {},
   "outputs": [],
   "source": [
    "#a – add – команда, которая добавит новый документ в каталог и в перечень полок,\n",
    "# спросив его номер, тип, имя владельца и номер полки, на котором он будет храниться.\n",
    "\"\"\"\n",
    "a -команда запросит: x = input('Номер документа - ') , targ_shelf = input('номер целевой полки')\n",
    " type_x = input('Тип документа-') ,  name_x = input(' Имя владельца')\n",
    "\"\"\"\n",
    "\n",
    "def add (x,targ_shelf, type_x, name_x):\n",
    "#добавляем новый документ в каталог\n",
    "    dict_x = {}\n",
    "    dict_x['type'] = type_x\n",
    "    dict_x['number'] = x\n",
    "    dict_x['name'] = name_x \n",
    "    #print(dict_x)\n",
    "    documents.append(dict_x)\n",
    "    #print(documents)\n",
    "#проверим есть ли такая полка в каталоге,и добавляем если нет.\n",
    "    shelf_in_direc(targ_shelf)\n",
    "    #print('ok')\n",
    "#добавляем документ на полку хранения\n",
    "    doc_on_shelf(x,targ_shelf)\n",
    "    #print(directories)"
   ]
  },
  {
   "cell_type": "markdown",
   "metadata": {},
   "source": [
    "## Команды "
   ]
  },
  {
   "cell_type": "code",
   "execution_count": 69,
   "metadata": {},
   "outputs": [],
   "source": [
    "documents = [\n",
    "    {'type': 'passport', 'number': '2207 876234', 'name': 'Василий Гупкин'},\n",
    "    {'type': 'invoice', 'number': '11-2', 'name': 'Геннадий Покемонов'},\n",
    "    {'type': 'insurance', 'number': '10006', 'name': 'Аристарх Павлов'}\n",
    "]"
   ]
  },
  {
   "cell_type": "code",
   "execution_count": 70,
   "metadata": {},
   "outputs": [],
   "source": [
    "directories = {\n",
    "    '1': ['2207 876234', '11-2', '5455 028765'],\n",
    "    '2': ['10006', '5400 028765', '5455 002299'],\n",
    "    '3': []\n",
    "}"
   ]
  },
  {
   "cell_type": "code",
   "execution_count": 85,
   "metadata": {},
   "outputs": [
    {
     "name": "stdout",
     "output_type": "stream",
     "text": [
      "Введите команду: m\n",
      "Номер документа - 28\n",
      "Номер новой полки - 9\n",
      "такого документа нет\n"
     ]
    }
   ],
   "source": [
    "command = input('Введите команду: ')\n",
    "if command =='p':\n",
    "    x = input('Номер документа - ')\n",
    "    people(x)\n",
    "elif command == 's':\n",
    "    x = input('Номер документа - ')\n",
    "    shelf(x)\n",
    "elif command == 'l':\n",
    "    l(documents)\n",
    "elif command == 'as':\n",
    "    targ_shelf = input('Номер новой полки - ')\n",
    "    add_shelf(n)\n",
    "elif command == 'd':\n",
    "    x = input('Номер документа - ')\n",
    "    delete_all(x)\n",
    "elif command == 'm':\n",
    "    x = input('Номер документа - ')\n",
    "    targ_shelf = input('Номер новой полки - ')\n",
    "    move(x,targ_shelf)\n",
    "elif command == 'd':\n",
    "    x = input('Номер документа - ')\n",
    "elif command == 'a':\n",
    "    x = input('Номер документа - ') \n",
    "    targ_shelf = input('Номер полки - ')\n",
    "    type_x = input('Тип документа-' )\n",
    "    name_x = input('Имя владельца- ')\n",
    "    add(x, targ_shelf,type_x, name_x )\n",
    "    \n",
    "else:\n",
    "    print('Такой команды нет') "
   ]
  },
  {
   "cell_type": "code",
   "execution_count": 86,
   "metadata": {},
   "outputs": [
    {
     "name": "stdout",
     "output_type": "stream",
     "text": [
      "[{'type': 'passport', 'number': '2207 876234', 'name': 'Василий Гупкин'}, {'type': 'invoice', 'number': '11-2', 'name': 'Геннадий Покемонов'}, {'type': 'insurance', 'number': '10006', 'name': 'Аристарх Павлов'}]\n",
      "{'1': ['2207 876234', '5455 028765'], '2': ['10006', '5400 028765', '5455 002299'], '3': ['11-2'], '6': []}\n"
     ]
    }
   ],
   "source": [
    "print(documents)\n",
    "print(directories)"
   ]
  },
  {
   "cell_type": "code",
   "execution_count": null,
   "metadata": {},
   "outputs": [],
   "source": []
  }
 ],
 "metadata": {
  "kernelspec": {
   "display_name": "Python 3",
   "language": "python",
   "name": "python3"
  },
  "language_info": {
   "codemirror_mode": {
    "name": "ipython",
    "version": 3
   },
   "file_extension": ".py",
   "mimetype": "text/x-python",
   "name": "python",
   "nbconvert_exporter": "python",
   "pygments_lexer": "ipython3",
   "version": "3.7.4"
  }
 },
 "nbformat": 4,
 "nbformat_minor": 2
}
